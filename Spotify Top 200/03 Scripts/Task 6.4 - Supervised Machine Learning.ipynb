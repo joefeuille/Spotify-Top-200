{
 "cells": [
  {
   "cell_type": "markdown",
   "id": "c113d6e8",
   "metadata": {},
   "source": [
    "# 0.1 - Setup"
   ]
  },
  {
   "cell_type": "code",
   "execution_count": 1,
   "id": "c0a5f3a2",
   "metadata": {},
   "outputs": [],
   "source": [
    "# Importing Libraries\n",
    "\n",
    "import pandas as pd\n",
    "import numpy as np\n",
    "import seaborn as sns\n",
    "import matplotlib\n",
    "import matplotlib.pyplot as plt\n",
    "import os\n",
    "import sklearn\n",
    "from sklearn.model_selection import train_test_split\n",
    "from sklearn.linear_model import LinearRegression\n",
    "from sklearn.metrics import mean_squared_error, r2_score"
   ]
  },
  {
   "cell_type": "code",
   "execution_count": 2,
   "id": "73734170",
   "metadata": {},
   "outputs": [],
   "source": [
    "# Setting matplotlib to display w/in notebook\n",
    "\n",
    "%matplotlib inline"
   ]
  },
  {
   "cell_type": "code",
   "execution_count": 3,
   "id": "fbc362aa",
   "metadata": {},
   "outputs": [],
   "source": [
    "# Defining File path\n",
    "path = r'/Users/joefeuille/CF Analysis/Spotify Analysis'"
   ]
  },
  {
   "cell_type": "code",
   "execution_count": 4,
   "id": "9388f044",
   "metadata": {},
   "outputs": [],
   "source": [
    "# Importing master data set\n",
    "master = pd.read_pickle(os.path.join(path, '02 Data', 'Prepared Data', 'global_master.pkl'))"
   ]
  },
  {
   "cell_type": "markdown",
   "id": "c42d2646",
   "metadata": {},
   "source": [
    "# 0.2 - Data Check"
   ]
  },
  {
   "cell_type": "code",
   "execution_count": 5,
   "id": "8bdc4fc5",
   "metadata": {},
   "outputs": [
    {
     "data": {
      "text/plain": [
       "(15722, 29)"
      ]
     },
     "execution_count": 5,
     "metadata": {},
     "output_type": "execute_result"
    }
   ],
   "source": [
    "master.shape"
   ]
  },
  {
   "cell_type": "code",
   "execution_count": 6,
   "id": "b0fb7754",
   "metadata": {},
   "outputs": [
    {
     "data": {
      "text/html": [
       "<div>\n",
       "<style scoped>\n",
       "    .dataframe tbody tr th:only-of-type {\n",
       "        vertical-align: middle;\n",
       "    }\n",
       "\n",
       "    .dataframe tbody tr th {\n",
       "        vertical-align: top;\n",
       "    }\n",
       "\n",
       "    .dataframe thead th {\n",
       "        text-align: right;\n",
       "    }\n",
       "</style>\n",
       "<table border=\"1\" class=\"dataframe\">\n",
       "  <thead>\n",
       "    <tr style=\"text-align: right;\">\n",
       "      <th></th>\n",
       "      <th>Position</th>\n",
       "      <th>Track Name</th>\n",
       "      <th>Artist</th>\n",
       "      <th>Streams</th>\n",
       "      <th>URL</th>\n",
       "      <th>Week</th>\n",
       "      <th>Country</th>\n",
       "      <th>Country_Code</th>\n",
       "      <th>Track ID</th>\n",
       "      <th>Album</th>\n",
       "      <th>...</th>\n",
       "      <th>Speechiness</th>\n",
       "      <th>Tempo</th>\n",
       "      <th>Time_Signature</th>\n",
       "      <th>Key</th>\n",
       "      <th>Mode</th>\n",
       "      <th>Valence</th>\n",
       "      <th>Duration</th>\n",
       "      <th>Explicit</th>\n",
       "      <th>Markets</th>\n",
       "      <th>_merge</th>\n",
       "    </tr>\n",
       "  </thead>\n",
       "  <tbody>\n",
       "    <tr>\n",
       "      <th>0</th>\n",
       "      <td>1</td>\n",
       "      <td>STAY (with Justin Bieber)</td>\n",
       "      <td>The Kid LAROI</td>\n",
       "      <td>2031338.0</td>\n",
       "      <td>https://open.spotify.com/track/5PjdY0CKGZdEuoN...</td>\n",
       "      <td>09/30/21</td>\n",
       "      <td>Australia</td>\n",
       "      <td>AU</td>\n",
       "      <td>5PjdY0CKGZdEuoNab3yDmX</td>\n",
       "      <td>F*CK LOVE 3: OVER YOU</td>\n",
       "      <td>...</td>\n",
       "      <td>0.0483</td>\n",
       "      <td>169.928</td>\n",
       "      <td>4.0</td>\n",
       "      <td>1</td>\n",
       "      <td>1</td>\n",
       "      <td>0.478</td>\n",
       "      <td>141806</td>\n",
       "      <td>True</td>\n",
       "      <td>[AD, AE, AG, AL, AM, AO, AR, AT, AU, AZ, BA, B...</td>\n",
       "      <td>both</td>\n",
       "    </tr>\n",
       "    <tr>\n",
       "      <th>1</th>\n",
       "      <td>1</td>\n",
       "      <td>STAY (with Justin Bieber)</td>\n",
       "      <td>The Kid LAROI</td>\n",
       "      <td>2260974.0</td>\n",
       "      <td>https://open.spotify.com/track/5PjdY0CKGZdEuoN...</td>\n",
       "      <td>09/23/21</td>\n",
       "      <td>Australia</td>\n",
       "      <td>AU</td>\n",
       "      <td>5PjdY0CKGZdEuoNab3yDmX</td>\n",
       "      <td>F*CK LOVE 3: OVER YOU</td>\n",
       "      <td>...</td>\n",
       "      <td>0.0483</td>\n",
       "      <td>169.928</td>\n",
       "      <td>4.0</td>\n",
       "      <td>1</td>\n",
       "      <td>1</td>\n",
       "      <td>0.478</td>\n",
       "      <td>141806</td>\n",
       "      <td>True</td>\n",
       "      <td>[AD, AE, AG, AL, AM, AO, AR, AT, AU, AZ, BA, B...</td>\n",
       "      <td>both</td>\n",
       "    </tr>\n",
       "    <tr>\n",
       "      <th>2</th>\n",
       "      <td>1</td>\n",
       "      <td>STAY (with Justin Bieber)</td>\n",
       "      <td>The Kid LAROI</td>\n",
       "      <td>2277839.0</td>\n",
       "      <td>https://open.spotify.com/track/5PjdY0CKGZdEuoN...</td>\n",
       "      <td>09/16/21</td>\n",
       "      <td>Australia</td>\n",
       "      <td>AU</td>\n",
       "      <td>5PjdY0CKGZdEuoNab3yDmX</td>\n",
       "      <td>F*CK LOVE 3: OVER YOU</td>\n",
       "      <td>...</td>\n",
       "      <td>0.0483</td>\n",
       "      <td>169.928</td>\n",
       "      <td>4.0</td>\n",
       "      <td>1</td>\n",
       "      <td>1</td>\n",
       "      <td>0.478</td>\n",
       "      <td>141806</td>\n",
       "      <td>True</td>\n",
       "      <td>[AD, AE, AG, AL, AM, AO, AR, AT, AU, AZ, BA, B...</td>\n",
       "      <td>both</td>\n",
       "    </tr>\n",
       "    <tr>\n",
       "      <th>3</th>\n",
       "      <td>1</td>\n",
       "      <td>STAY (with Justin Bieber)</td>\n",
       "      <td>The Kid LAROI</td>\n",
       "      <td>2367836.0</td>\n",
       "      <td>https://open.spotify.com/track/5PjdY0CKGZdEuoN...</td>\n",
       "      <td>09/09/21</td>\n",
       "      <td>Australia</td>\n",
       "      <td>AU</td>\n",
       "      <td>5PjdY0CKGZdEuoNab3yDmX</td>\n",
       "      <td>F*CK LOVE 3: OVER YOU</td>\n",
       "      <td>...</td>\n",
       "      <td>0.0483</td>\n",
       "      <td>169.928</td>\n",
       "      <td>4.0</td>\n",
       "      <td>1</td>\n",
       "      <td>1</td>\n",
       "      <td>0.478</td>\n",
       "      <td>141806</td>\n",
       "      <td>True</td>\n",
       "      <td>[AD, AE, AG, AL, AM, AO, AR, AT, AU, AZ, BA, B...</td>\n",
       "      <td>both</td>\n",
       "    </tr>\n",
       "    <tr>\n",
       "      <th>4</th>\n",
       "      <td>1</td>\n",
       "      <td>STAY (with Justin Bieber)</td>\n",
       "      <td>The Kid LAROI</td>\n",
       "      <td>2535418.0</td>\n",
       "      <td>https://open.spotify.com/track/5PjdY0CKGZdEuoN...</td>\n",
       "      <td>09/02/21</td>\n",
       "      <td>Australia</td>\n",
       "      <td>AU</td>\n",
       "      <td>5PjdY0CKGZdEuoNab3yDmX</td>\n",
       "      <td>F*CK LOVE 3: OVER YOU</td>\n",
       "      <td>...</td>\n",
       "      <td>0.0483</td>\n",
       "      <td>169.928</td>\n",
       "      <td>4.0</td>\n",
       "      <td>1</td>\n",
       "      <td>1</td>\n",
       "      <td>0.478</td>\n",
       "      <td>141806</td>\n",
       "      <td>True</td>\n",
       "      <td>[AD, AE, AG, AL, AM, AO, AR, AT, AU, AZ, BA, B...</td>\n",
       "      <td>both</td>\n",
       "    </tr>\n",
       "  </tbody>\n",
       "</table>\n",
       "<p>5 rows × 29 columns</p>\n",
       "</div>"
      ],
      "text/plain": [
       "   Position                 Track Name         Artist    Streams  \\\n",
       "0         1  STAY (with Justin Bieber)  The Kid LAROI  2031338.0   \n",
       "1         1  STAY (with Justin Bieber)  The Kid LAROI  2260974.0   \n",
       "2         1  STAY (with Justin Bieber)  The Kid LAROI  2277839.0   \n",
       "3         1  STAY (with Justin Bieber)  The Kid LAROI  2367836.0   \n",
       "4         1  STAY (with Justin Bieber)  The Kid LAROI  2535418.0   \n",
       "\n",
       "                                                 URL      Week    Country  \\\n",
       "0  https://open.spotify.com/track/5PjdY0CKGZdEuoN...  09/30/21  Australia   \n",
       "1  https://open.spotify.com/track/5PjdY0CKGZdEuoN...  09/23/21  Australia   \n",
       "2  https://open.spotify.com/track/5PjdY0CKGZdEuoN...  09/16/21  Australia   \n",
       "3  https://open.spotify.com/track/5PjdY0CKGZdEuoN...  09/09/21  Australia   \n",
       "4  https://open.spotify.com/track/5PjdY0CKGZdEuoN...  09/02/21  Australia   \n",
       "\n",
       "  Country_Code                Track ID                  Album  ...  \\\n",
       "0           AU  5PjdY0CKGZdEuoNab3yDmX  F*CK LOVE 3: OVER YOU  ...   \n",
       "1           AU  5PjdY0CKGZdEuoNab3yDmX  F*CK LOVE 3: OVER YOU  ...   \n",
       "2           AU  5PjdY0CKGZdEuoNab3yDmX  F*CK LOVE 3: OVER YOU  ...   \n",
       "3           AU  5PjdY0CKGZdEuoNab3yDmX  F*CK LOVE 3: OVER YOU  ...   \n",
       "4           AU  5PjdY0CKGZdEuoNab3yDmX  F*CK LOVE 3: OVER YOU  ...   \n",
       "\n",
       "  Speechiness    Tempo  Time_Signature  Key  Mode  Valence  Duration  \\\n",
       "0      0.0483  169.928             4.0    1     1    0.478    141806   \n",
       "1      0.0483  169.928             4.0    1     1    0.478    141806   \n",
       "2      0.0483  169.928             4.0    1     1    0.478    141806   \n",
       "3      0.0483  169.928             4.0    1     1    0.478    141806   \n",
       "4      0.0483  169.928             4.0    1     1    0.478    141806   \n",
       "\n",
       "   Explicit                                            Markets  _merge  \n",
       "0      True  [AD, AE, AG, AL, AM, AO, AR, AT, AU, AZ, BA, B...    both  \n",
       "1      True  [AD, AE, AG, AL, AM, AO, AR, AT, AU, AZ, BA, B...    both  \n",
       "2      True  [AD, AE, AG, AL, AM, AO, AR, AT, AU, AZ, BA, B...    both  \n",
       "3      True  [AD, AE, AG, AL, AM, AO, AR, AT, AU, AZ, BA, B...    both  \n",
       "4      True  [AD, AE, AG, AL, AM, AO, AR, AT, AU, AZ, BA, B...    both  \n",
       "\n",
       "[5 rows x 29 columns]"
      ]
     },
     "execution_count": 6,
     "metadata": {},
     "output_type": "execute_result"
    }
   ],
   "source": [
    "master.head()"
   ]
  },
  {
   "cell_type": "code",
   "execution_count": 7,
   "id": "6b88775c",
   "metadata": {},
   "outputs": [
    {
     "data": {
      "text/plain": [
       "Position               int64\n",
       "Track Name            object\n",
       "Artist                object\n",
       "Streams              float64\n",
       "URL                   object\n",
       "Week                  object\n",
       "Country               object\n",
       "Country_Code          object\n",
       "Track ID              object\n",
       "Album                 object\n",
       "Release_date          object\n",
       "Length               float64\n",
       "Popularity           float64\n",
       "Acousticness         float64\n",
       "Danceability         float64\n",
       "Energy               float64\n",
       "Instrumentalness     float64\n",
       "Liveness             float64\n",
       "Loudness             float64\n",
       "Speechiness          float64\n",
       "Tempo                float64\n",
       "Time_Signature       float64\n",
       "Key                    int64\n",
       "Mode                   int64\n",
       "Valence              float64\n",
       "Duration               int64\n",
       "Explicit                bool\n",
       "Markets               object\n",
       "_merge              category\n",
       "dtype: object"
      ]
     },
     "execution_count": 7,
     "metadata": {},
     "output_type": "execute_result"
    }
   ],
   "source": [
    "master.dtypes"
   ]
  },
  {
   "cell_type": "code",
   "execution_count": 9,
   "id": "e377832a",
   "metadata": {},
   "outputs": [
    {
     "data": {
      "text/plain": [
       "Position            0\n",
       "Track Name          0\n",
       "Artist              0\n",
       "Streams             0\n",
       "URL                 0\n",
       "Week                0\n",
       "Country             0\n",
       "Country_Code        0\n",
       "Track ID            0\n",
       "Album               0\n",
       "Release_date        0\n",
       "Length              0\n",
       "Popularity          0\n",
       "Acousticness        0\n",
       "Danceability        0\n",
       "Energy              0\n",
       "Instrumentalness    0\n",
       "Liveness            0\n",
       "Loudness            0\n",
       "Speechiness         0\n",
       "Tempo               0\n",
       "Time_Signature      0\n",
       "Key                 0\n",
       "Mode                0\n",
       "Valence             0\n",
       "Duration            0\n",
       "Explicit            0\n",
       "Markets             0\n",
       "_merge              0\n",
       "dtype: int64"
      ]
     },
     "execution_count": 9,
     "metadata": {},
     "output_type": "execute_result"
    }
   ],
   "source": [
    "# Checking for missing values\n",
    "\n",
    "master.isnull().sum()"
   ]
  },
  {
   "cell_type": "markdown",
   "id": "f4a5113c",
   "metadata": {},
   "source": [
    "# Q.4 - Explore your data visually (e.g., by way of a scatterplot), looking for variables whose relationship you’d like to test."
   ]
  },
  {
   "cell_type": "code",
   "execution_count": 12,
   "id": "34c67ea8",
   "metadata": {},
   "outputs": [
    {
     "data": {
      "image/png": "[encoded data removed]",
      "text/plain": [
       "<Figure size 360x360 with 1 Axes>"
      ]
     },
     "metadata": {
      "needs_background": "light"
     },
     "output_type": "display_data"
    }
   ],
   "source": [
    "# Create a scatterplot for Energy/Loudness for the Global set\n",
    "\n",
    "erg_v_loud = sns.lmplot(x = 'Energy', y = 'Loudness', data = master)"
   ]
  },
  {
   "cell_type": "code",
   "execution_count": 13,
   "id": "fa917ef8",
   "metadata": {},
   "outputs": [
    {
     "data": {
      "image/png": "[encoded data removed]",
      "text/plain": [
       "<Figure size 360x360 with 1 Axes>"
      ]
     },
     "metadata": {
      "needs_background": "light"
     },
     "output_type": "display_data"
    }
   ],
   "source": [
    "# Create a scatterplot for Energy/Popularity for the Global set\n",
    "\n",
    "erg_v_pop = sns.lmplot(x = 'Energy', y = 'Popularity', data = master)"
   ]
  },
  {
   "cell_type": "code",
   "execution_count": 14,
   "id": "cd985000",
   "metadata": {},
   "outputs": [
    {
     "data": {
      "image/png": "[encoded data removed]",
      "text/plain": [
       "<Figure size 360x360 with 1 Axes>"
      ]
     },
     "metadata": {
      "needs_background": "light"
     },
     "output_type": "display_data"
    }
   ],
   "source": [
    "# Create a scatterplot for Loudness/Popularity for the Global set\n",
    "\n",
    "loud_v_pop = sns.lmplot(x = 'Loudness', y = 'Popularity', data = master)"
   ]
  },
  {
   "cell_type": "markdown",
   "id": "d94d1530",
   "metadata": {},
   "source": [
    "#### The most interesting relationship worth examining is Energy/Loudness. As Energy/Popularity is mostly flat, it doesn't seem like a worthwhile analysis. We'll add Loudness/Popularity to the Linear Regression for practice & curiosity's sake."
   ]
  },
  {
   "cell_type": "markdown",
   "id": "3bf002dd",
   "metadata": {},
   "source": [
    "# Q.5 - State your hypothesis."
   ]
  },
  {
   "cell_type": "markdown",
   "id": "bc5faf55",
   "metadata": {},
   "source": [
    "### Hypothesis #1: The higher a song's energy rating, the more likely it is to be loud."
   ]
  },
  {
   "cell_type": "markdown",
   "id": "8dc37f3e",
   "metadata": {},
   "source": [
    "### Hypothesis #2: The louder a song is, the more popular it will be."
   ]
  },
  {
   "cell_type": "markdown",
   "id": "b4c1aca0",
   "metadata": {},
   "source": [
    "# Q.6 - Reshape the variables into NumPy arrays, with X being the independent variable and y being the dependent variable."
   ]
  },
  {
   "cell_type": "code",
   "execution_count": 15,
   "id": "ee85ac3e",
   "metadata": {},
   "outputs": [],
   "source": [
    "# Reshaping variables into Numpy arrays\n",
    "\n",
    "X_1 = master['Energy'].values.reshape(-1,1)\n",
    "y_1 = master['Loudness'].values.reshape(-1,1)\n",
    "\n",
    "X_2 = master['Loudness'].values.reshape(-1,1)\n",
    "y_2 = master['Popularity'].values.reshape(-1,1)"
   ]
  },
  {
   "cell_type": "code",
   "execution_count": 16,
   "id": "509f10ee",
   "metadata": {},
   "outputs": [
    {
     "data": {
      "text/plain": [
       "array([[0.764],\n",
       "       [0.764],\n",
       "       [0.764],\n",
       "       ...,\n",
       "       [0.821],\n",
       "       [0.692],\n",
       "       [0.479]])"
      ]
     },
     "execution_count": 16,
     "metadata": {},
     "output_type": "execute_result"
    }
   ],
   "source": [
    "X_1"
   ]
  },
  {
   "cell_type": "code",
   "execution_count": 17,
   "id": "9e1f128d",
   "metadata": {},
   "outputs": [
    {
     "data": {
      "text/plain": [
       "array([[ -5.484],\n",
       "       [ -5.484],\n",
       "       [ -5.484],\n",
       "       ...,\n",
       "       [ -4.085],\n",
       "       [ -5.431],\n",
       "       [-10.646]])"
      ]
     },
     "execution_count": 17,
     "metadata": {},
     "output_type": "execute_result"
    }
   ],
   "source": [
    "y_1"
   ]
  },
  {
   "cell_type": "code",
   "execution_count": 18,
   "id": "195f19ef",
   "metadata": {},
   "outputs": [
    {
     "data": {
      "text/plain": [
       "array([[ -5.484],\n",
       "       [ -5.484],\n",
       "       [ -5.484],\n",
       "       ...,\n",
       "       [ -4.085],\n",
       "       [ -5.431],\n",
       "       [-10.646]])"
      ]
     },
     "execution_count": 18,
     "metadata": {},
     "output_type": "execute_result"
    }
   ],
   "source": [
    "X_2"
   ]
  },
  {
   "cell_type": "code",
   "execution_count": 19,
   "id": "d75fa44b",
   "metadata": {},
   "outputs": [
    {
     "data": {
      "text/plain": [
       "array([[93.],\n",
       "       [93.],\n",
       "       [93.],\n",
       "       ...,\n",
       "       [71.],\n",
       "       [74.],\n",
       "       [79.]])"
      ]
     },
     "execution_count": 19,
     "metadata": {},
     "output_type": "execute_result"
    }
   ],
   "source": [
    "y_2"
   ]
  },
  {
   "cell_type": "markdown",
   "id": "6c9f3f61",
   "metadata": {},
   "source": [
    "# Q.7 - Split the data into two sets: a training set and a test set."
   ]
  },
  {
   "cell_type": "code",
   "execution_count": 20,
   "id": "3b82668f",
   "metadata": {},
   "outputs": [],
   "source": [
    "# Splitting data into training/test sets for Hypothesis #1\n",
    "\n",
    "X_1_train, X_1_test, y_1_train, y_1_test = train_test_split(X_1, y_1, test_size=0.3, random_state=0)"
   ]
  },
  {
   "cell_type": "code",
   "execution_count": 21,
   "id": "b99d9d4d",
   "metadata": {},
   "outputs": [],
   "source": [
    "# Splitting data into training/test sets for Hypothesis #2\n",
    "\n",
    "X_2_train, X_2_test, y_2_train, y_2_test = train_test_split(X_2, y_2, test_size=0.3, random_state=0)"
   ]
  },
  {
   "cell_type": "markdown",
   "id": "c9eca750",
   "metadata": {},
   "source": [
    "# Q.8 - Run a linear regression on the data.\n",
    "\n",
    "###    First, fit the model you created to the training set.\n",
    "###    Then, create a prediction for y on the test set.\n"
   ]
  },
  {
   "cell_type": "code",
   "execution_count": 22,
   "id": "657d8557",
   "metadata": {},
   "outputs": [],
   "source": [
    "# Creating regression objects.\n",
    "\n",
    "regression_1 = LinearRegression()\n",
    "regression_2 = LinearRegression()"
   ]
  },
  {
   "cell_type": "code",
   "execution_count": 24,
   "id": "ad79db8c",
   "metadata": {},
   "outputs": [
    {
     "data": {
      "text/plain": [
       "LinearRegression()"
      ]
     },
     "execution_count": 24,
     "metadata": {},
     "output_type": "execute_result"
    }
   ],
   "source": [
    "# Fitting the regression objects onto training sets.\n",
    "\n",
    "regression_1.fit(X_1_train, y_1_train)\n",
    "regression_2.fit(X_2_train, y_2_train)"
   ]
  },
  {
   "cell_type": "code",
   "execution_count": 25,
   "id": "d110bb73",
   "metadata": {},
   "outputs": [],
   "source": [
    "# Predicting the values of y's for both hypotheses\n",
    "\n",
    "y_1_predicted = regression_1.predict(X_1_test)\n",
    "y_2_predicted = regression_2.predict(X_2_test)"
   ]
  },
  {
   "cell_type": "markdown",
   "id": "eb11f638",
   "metadata": {},
   "source": [
    "# Q.9 - Create a plot that shows the regression line on the test set."
   ]
  },
  {
   "cell_type": "code",
   "execution_count": 26,
   "id": "23a83ef4",
   "metadata": {},
   "outputs": [
    {
     "data": {
      "image/png": "[encoded data removed]",
      "text/plain": [
       "<Figure size 432x288 with 1 Axes>"
      ]
     },
     "metadata": {
      "needs_background": "light"
     },
     "output_type": "display_data"
    }
   ],
   "source": [
    "# Creating plot of first regression's model\n",
    "\n",
    "plot_test_1 = plt\n",
    "plot_test_1.scatter(X_1_test, y_1_test, color='gray', s = 15)\n",
    "plot_test_1.plot(X_1_test, y_1_predicted, color='red', linewidth =3)\n",
    "plot_test_1.title('Energy vs Loudness (Test set)')\n",
    "plot_test_1.xlabel('Energy')\n",
    "plot_test_1.ylabel('Loudness')\n",
    "plot_test_1.show()"
   ]
  },
  {
   "cell_type": "code",
   "execution_count": 27,
   "id": "e733708f",
   "metadata": {},
   "outputs": [
    {
     "data": {
      "image/png": "[encoded data removed]",
      "text/plain": [
       "<Figure size 432x288 with 1 Axes>"
      ]
     },
     "metadata": {
      "needs_background": "light"
     },
     "output_type": "display_data"
    }
   ],
   "source": [
    "# Creating plot of second regression's model\n",
    "\n",
    "plot_test_2 = plt\n",
    "plot_test_2.scatter(X_2_test, y_2_test, color='gray', s = 15)\n",
    "plot_test_2.plot(X_2_test, y_2_predicted, color='red', linewidth =3)\n",
    "plot_test_2.title('Loudness vs Popularity (Test set)')\n",
    "plot_test_2.xlabel('Loudness')\n",
    "plot_test_2.ylabel('Popularity')\n",
    "plot_test_2.show()"
   ]
  },
  {
   "cell_type": "markdown",
   "id": "8d32951f",
   "metadata": {},
   "source": [
    "# Q.10 - Create a plot that shows the regression line on the test set."
   ]
  },
  {
   "cell_type": "markdown",
   "id": "4a13b66a",
   "metadata": {},
   "source": [
    "### Regression #1: The prediction line seems to follow the data points well. However, there are more than a few points that fall far from the line. I expect the R2 value to be 0.5 or less."
   ]
  },
  {
   "cell_type": "markdown",
   "id": "96ced327",
   "metadata": {},
   "source": [
    "### Regression #2: The prediction line doesn't even seem to cut through the middle of the cluster. I didn't expect this second regression to create a stellar prediction, but I wanted to get some extra practice. I expect the R2 value to be less than 0.3."
   ]
  },
  {
   "cell_type": "markdown",
   "id": "43f2206c",
   "metadata": {},
   "source": [
    "# Q.11 - Check the model performance statistics—MSE and R2."
   ]
  },
  {
   "cell_type": "code",
   "execution_count": 28,
   "id": "292de96b",
   "metadata": {},
   "outputs": [],
   "source": [
    "# Creating objects for the summary statistics.\n",
    "\n",
    "rmse_1 = mean_squared_error(y_1_test, y_1_predicted)\n",
    "r2_1 = r2_score(y_1_test, y_1_predicted)\n",
    "\n",
    "rmse_2 = mean_squared_error(y_2_test, y_2_predicted)\n",
    "r2_2 = r2_score(y_2_test, y_2_predicted)"
   ]
  },
  {
   "cell_type": "code",
   "execution_count": 29,
   "id": "c55954a0",
   "metadata": {},
   "outputs": [
    {
     "name": "stdout",
     "output_type": "stream",
     "text": [
      "Slope: [[9.56689553]]\n",
      "Mean squared error:  3.1115089890388354\n",
      "R2 score:  0.4551742080946515\n"
     ]
    }
   ],
   "source": [
    "# Printing the model summary statistics for Hypothesis 1. \n",
    "\n",
    "print('Slope:' ,regression_1.coef_)\n",
    "print('Mean squared error: ', rmse_1)\n",
    "print('R2 score: ', r2_1)"
   ]
  },
  {
   "cell_type": "code",
   "execution_count": 30,
   "id": "7251fd11",
   "metadata": {},
   "outputs": [
    {
     "name": "stdout",
     "output_type": "stream",
     "text": [
      "Slope: [[0.69887406]]\n",
      "Mean squared error:  154.48275243866377\n",
      "R2 score:  0.009739428915909731\n"
     ]
    }
   ],
   "source": [
    "# Printing the model summary statistics for Hypothesis 2. \n",
    "\n",
    "print('Slope:' ,regression_2.coef_)\n",
    "print('Mean squared error: ', rmse_2)\n",
    "print('R2 score: ', r2_2)"
   ]
  },
  {
   "cell_type": "markdown",
   "id": "d6d57522",
   "metadata": {},
   "source": [
    "# Q.12 - Compare the predicted y values with the actual y values in a dataframe."
   ]
  },
  {
   "cell_type": "code",
   "execution_count": 31,
   "id": "9678282f",
   "metadata": {},
   "outputs": [
    {
     "data": {
      "text/plain": [
       "array([[-7.67698682],\n",
       "       [-7.58131787],\n",
       "       [-4.99825608],\n",
       "       ...,\n",
       "       [-4.82605196],\n",
       "       [-5.31396363],\n",
       "       [-4.9408547 ]])"
      ]
     },
     "execution_count": 31,
     "metadata": {},
     "output_type": "execute_result"
    }
   ],
   "source": [
    "y_1_predicted"
   ]
  },
  {
   "cell_type": "code",
   "execution_count": 32,
   "id": "0a040ec0",
   "metadata": {},
   "outputs": [
    {
     "data": {
      "text/plain": [
       "array([[73.18092113],\n",
       "       [74.5961411 ],\n",
       "       [73.68271271],\n",
       "       ...,\n",
       "       [74.4319057 ],\n",
       "       [74.20337388],\n",
       "       [75.01336891]])"
      ]
     },
     "execution_count": 32,
     "metadata": {},
     "output_type": "execute_result"
    }
   ],
   "source": [
    "y_2_predicted"
   ]
  },
  {
   "cell_type": "code",
   "execution_count": 34,
   "id": "9d8249a5",
   "metadata": {},
   "outputs": [
    {
     "data": {
      "text/html": [
       "<div>\n",
       "<style scoped>\n",
       "    .dataframe tbody tr th:only-of-type {\n",
       "        vertical-align: middle;\n",
       "    }\n",
       "\n",
       "    .dataframe tbody tr th {\n",
       "        vertical-align: top;\n",
       "    }\n",
       "\n",
       "    .dataframe thead th {\n",
       "        text-align: right;\n",
       "    }\n",
       "</style>\n",
       "<table border=\"1\" class=\"dataframe\">\n",
       "  <thead>\n",
       "    <tr style=\"text-align: right;\">\n",
       "      <th></th>\n",
       "      <th>Actual_1</th>\n",
       "      <th>Predicted_1</th>\n",
       "    </tr>\n",
       "  </thead>\n",
       "  <tbody>\n",
       "    <tr>\n",
       "      <th>0</th>\n",
       "      <td>-6.725</td>\n",
       "      <td>-7.676987</td>\n",
       "    </tr>\n",
       "    <tr>\n",
       "      <th>1</th>\n",
       "      <td>-4.700</td>\n",
       "      <td>-7.581318</td>\n",
       "    </tr>\n",
       "    <tr>\n",
       "      <th>2</th>\n",
       "      <td>-6.007</td>\n",
       "      <td>-4.998256</td>\n",
       "    </tr>\n",
       "    <tr>\n",
       "      <th>3</th>\n",
       "      <td>-6.312</td>\n",
       "      <td>-4.854753</td>\n",
       "    </tr>\n",
       "    <tr>\n",
       "      <th>4</th>\n",
       "      <td>-4.550</td>\n",
       "      <td>-5.122626</td>\n",
       "    </tr>\n",
       "    <tr>\n",
       "      <th>5</th>\n",
       "      <td>-4.858</td>\n",
       "      <td>-6.988170</td>\n",
       "    </tr>\n",
       "    <tr>\n",
       "      <th>6</th>\n",
       "      <td>-5.680</td>\n",
       "      <td>-5.658372</td>\n",
       "    </tr>\n",
       "    <tr>\n",
       "      <th>7</th>\n",
       "      <td>-6.403</td>\n",
       "      <td>-5.093925</td>\n",
       "    </tr>\n",
       "    <tr>\n",
       "      <th>8</th>\n",
       "      <td>-6.184</td>\n",
       "      <td>-8.021395</td>\n",
       "    </tr>\n",
       "    <tr>\n",
       "      <th>9</th>\n",
       "      <td>-5.187</td>\n",
       "      <td>-7.801356</td>\n",
       "    </tr>\n",
       "    <tr>\n",
       "      <th>10</th>\n",
       "      <td>-6.997</td>\n",
       "      <td>-7.437814</td>\n",
       "    </tr>\n",
       "    <tr>\n",
       "      <th>11</th>\n",
       "      <td>-8.425</td>\n",
       "      <td>-6.136717</td>\n",
       "    </tr>\n",
       "    <tr>\n",
       "      <th>12</th>\n",
       "      <td>-7.152</td>\n",
       "      <td>-6.041048</td>\n",
       "    </tr>\n",
       "    <tr>\n",
       "      <th>13</th>\n",
       "      <td>-4.819</td>\n",
       "      <td>-4.223338</td>\n",
       "    </tr>\n",
       "    <tr>\n",
       "      <th>14</th>\n",
       "      <td>-8.493</td>\n",
       "      <td>-7.246477</td>\n",
       "    </tr>\n",
       "    <tr>\n",
       "      <th>15</th>\n",
       "      <td>-2.736</td>\n",
       "      <td>-3.553655</td>\n",
       "    </tr>\n",
       "    <tr>\n",
       "      <th>16</th>\n",
       "      <td>-5.203</td>\n",
       "      <td>-4.548612</td>\n",
       "    </tr>\n",
       "    <tr>\n",
       "      <th>17</th>\n",
       "      <td>-5.524</td>\n",
       "      <td>-5.495735</td>\n",
       "    </tr>\n",
       "    <tr>\n",
       "      <th>18</th>\n",
       "      <td>-4.771</td>\n",
       "      <td>-4.816485</td>\n",
       "    </tr>\n",
       "    <tr>\n",
       "      <th>19</th>\n",
       "      <td>-6.029</td>\n",
       "      <td>-6.222819</td>\n",
       "    </tr>\n",
       "    <tr>\n",
       "      <th>20</th>\n",
       "      <td>-15.395</td>\n",
       "      <td>-7.906592</td>\n",
       "    </tr>\n",
       "    <tr>\n",
       "      <th>21</th>\n",
       "      <td>-3.671</td>\n",
       "      <td>-5.639238</td>\n",
       "    </tr>\n",
       "    <tr>\n",
       "      <th>22</th>\n",
       "      <td>-3.223</td>\n",
       "      <td>-4.510344</td>\n",
       "    </tr>\n",
       "    <tr>\n",
       "      <th>23</th>\n",
       "      <td>-3.463</td>\n",
       "      <td>-5.744474</td>\n",
       "    </tr>\n",
       "    <tr>\n",
       "      <th>24</th>\n",
       "      <td>-6.769</td>\n",
       "      <td>-6.414157</td>\n",
       "    </tr>\n",
       "    <tr>\n",
       "      <th>25</th>\n",
       "      <td>-4.073</td>\n",
       "      <td>-3.352750</td>\n",
       "    </tr>\n",
       "    <tr>\n",
       "      <th>26</th>\n",
       "      <td>-3.672</td>\n",
       "      <td>-4.070267</td>\n",
       "    </tr>\n",
       "    <tr>\n",
       "      <th>27</th>\n",
       "      <td>-5.022</td>\n",
       "      <td>-7.724821</td>\n",
       "    </tr>\n",
       "    <tr>\n",
       "      <th>28</th>\n",
       "      <td>-7.803</td>\n",
       "      <td>-7.791790</td>\n",
       "    </tr>\n",
       "    <tr>\n",
       "      <th>29</th>\n",
       "      <td>-8.340</td>\n",
       "      <td>-5.859277</td>\n",
       "    </tr>\n",
       "  </tbody>\n",
       "</table>\n",
       "</div>"
      ],
      "text/plain": [
       "    Actual_1  Predicted_1\n",
       "0     -6.725    -7.676987\n",
       "1     -4.700    -7.581318\n",
       "2     -6.007    -4.998256\n",
       "3     -6.312    -4.854753\n",
       "4     -4.550    -5.122626\n",
       "5     -4.858    -6.988170\n",
       "6     -5.680    -5.658372\n",
       "7     -6.403    -5.093925\n",
       "8     -6.184    -8.021395\n",
       "9     -5.187    -7.801356\n",
       "10    -6.997    -7.437814\n",
       "11    -8.425    -6.136717\n",
       "12    -7.152    -6.041048\n",
       "13    -4.819    -4.223338\n",
       "14    -8.493    -7.246477\n",
       "15    -2.736    -3.553655\n",
       "16    -5.203    -4.548612\n",
       "17    -5.524    -5.495735\n",
       "18    -4.771    -4.816485\n",
       "19    -6.029    -6.222819\n",
       "20   -15.395    -7.906592\n",
       "21    -3.671    -5.639238\n",
       "22    -3.223    -4.510344\n",
       "23    -3.463    -5.744474\n",
       "24    -6.769    -6.414157\n",
       "25    -4.073    -3.352750\n",
       "26    -3.672    -4.070267\n",
       "27    -5.022    -7.724821\n",
       "28    -7.803    -7.791790\n",
       "29    -8.340    -5.859277"
      ]
     },
     "execution_count": 34,
     "metadata": {},
     "output_type": "execute_result"
    }
   ],
   "source": [
    "# Creating a dataframe for Hypothesis 1 comparing the actual and predicted values of y.\n",
    "\n",
    "data_1 = pd.DataFrame({'Actual_1': y_1_test.flatten(), 'Predicted_1': y_1_predicted.flatten()})\n",
    "data_1.head(30)"
   ]
  },
  {
   "cell_type": "code",
   "execution_count": 35,
   "id": "68e5562b",
   "metadata": {},
   "outputs": [
    {
     "data": {
      "text/html": [
       "<div>\n",
       "<style scoped>\n",
       "    .dataframe tbody tr th:only-of-type {\n",
       "        vertical-align: middle;\n",
       "    }\n",
       "\n",
       "    .dataframe tbody tr th {\n",
       "        vertical-align: top;\n",
       "    }\n",
       "\n",
       "    .dataframe thead th {\n",
       "        text-align: right;\n",
       "    }\n",
       "</style>\n",
       "<table border=\"1\" class=\"dataframe\">\n",
       "  <thead>\n",
       "    <tr style=\"text-align: right;\">\n",
       "      <th></th>\n",
       "      <th>Actual_2</th>\n",
       "      <th>Predicted_2</th>\n",
       "    </tr>\n",
       "  </thead>\n",
       "  <tbody>\n",
       "    <tr>\n",
       "      <th>0</th>\n",
       "      <td>88.0</td>\n",
       "      <td>73.180921</td>\n",
       "    </tr>\n",
       "    <tr>\n",
       "      <th>1</th>\n",
       "      <td>73.0</td>\n",
       "      <td>74.596141</td>\n",
       "    </tr>\n",
       "    <tr>\n",
       "      <th>2</th>\n",
       "      <td>55.0</td>\n",
       "      <td>73.682713</td>\n",
       "    </tr>\n",
       "    <tr>\n",
       "      <th>3</th>\n",
       "      <td>92.0</td>\n",
       "      <td>73.469556</td>\n",
       "    </tr>\n",
       "    <tr>\n",
       "      <th>4</th>\n",
       "      <td>46.0</td>\n",
       "      <td>74.700972</td>\n",
       "    </tr>\n",
       "    <tr>\n",
       "      <th>5</th>\n",
       "      <td>83.0</td>\n",
       "      <td>74.485719</td>\n",
       "    </tr>\n",
       "    <tr>\n",
       "      <th>6</th>\n",
       "      <td>80.0</td>\n",
       "      <td>73.911245</td>\n",
       "    </tr>\n",
       "    <tr>\n",
       "      <th>7</th>\n",
       "      <td>45.0</td>\n",
       "      <td>73.405959</td>\n",
       "    </tr>\n",
       "    <tr>\n",
       "      <th>8</th>\n",
       "      <td>83.0</td>\n",
       "      <td>73.559012</td>\n",
       "    </tr>\n",
       "    <tr>\n",
       "      <th>9</th>\n",
       "      <td>92.0</td>\n",
       "      <td>74.255789</td>\n",
       "    </tr>\n",
       "    <tr>\n",
       "      <th>10</th>\n",
       "      <td>80.0</td>\n",
       "      <td>72.990827</td>\n",
       "    </tr>\n",
       "    <tr>\n",
       "      <th>11</th>\n",
       "      <td>69.0</td>\n",
       "      <td>71.992835</td>\n",
       "    </tr>\n",
       "    <tr>\n",
       "      <th>12</th>\n",
       "      <td>62.0</td>\n",
       "      <td>72.882502</td>\n",
       "    </tr>\n",
       "    <tr>\n",
       "      <th>13</th>\n",
       "      <td>53.0</td>\n",
       "      <td>74.512975</td>\n",
       "    </tr>\n",
       "    <tr>\n",
       "      <th>14</th>\n",
       "      <td>83.0</td>\n",
       "      <td>71.945312</td>\n",
       "    </tr>\n",
       "    <tr>\n",
       "      <th>15</th>\n",
       "      <td>61.0</td>\n",
       "      <td>75.968730</td>\n",
       "    </tr>\n",
       "    <tr>\n",
       "      <th>16</th>\n",
       "      <td>75.0</td>\n",
       "      <td>74.244607</td>\n",
       "    </tr>\n",
       "    <tr>\n",
       "      <th>17</th>\n",
       "      <td>85.0</td>\n",
       "      <td>74.020269</td>\n",
       "    </tr>\n",
       "    <tr>\n",
       "      <th>18</th>\n",
       "      <td>86.0</td>\n",
       "      <td>74.546521</td>\n",
       "    </tr>\n",
       "    <tr>\n",
       "      <th>19</th>\n",
       "      <td>88.0</td>\n",
       "      <td>73.667337</td>\n",
       "    </tr>\n",
       "    <tr>\n",
       "      <th>20</th>\n",
       "      <td>52.0</td>\n",
       "      <td>67.121683</td>\n",
       "    </tr>\n",
       "    <tr>\n",
       "      <th>21</th>\n",
       "      <td>88.0</td>\n",
       "      <td>75.315283</td>\n",
       "    </tr>\n",
       "    <tr>\n",
       "      <th>22</th>\n",
       "      <td>66.0</td>\n",
       "      <td>75.628378</td>\n",
       "    </tr>\n",
       "    <tr>\n",
       "      <th>23</th>\n",
       "      <td>86.0</td>\n",
       "      <td>75.460648</td>\n",
       "    </tr>\n",
       "    <tr>\n",
       "      <th>24</th>\n",
       "      <td>82.0</td>\n",
       "      <td>73.150171</td>\n",
       "    </tr>\n",
       "    <tr>\n",
       "      <th>25</th>\n",
       "      <td>62.0</td>\n",
       "      <td>75.034335</td>\n",
       "    </tr>\n",
       "    <tr>\n",
       "      <th>26</th>\n",
       "      <td>61.0</td>\n",
       "      <td>75.314584</td>\n",
       "    </tr>\n",
       "    <tr>\n",
       "      <th>27</th>\n",
       "      <td>51.0</td>\n",
       "      <td>74.371104</td>\n",
       "    </tr>\n",
       "    <tr>\n",
       "      <th>28</th>\n",
       "      <td>54.0</td>\n",
       "      <td>72.427535</td>\n",
       "    </tr>\n",
       "    <tr>\n",
       "      <th>29</th>\n",
       "      <td>71.0</td>\n",
       "      <td>72.052240</td>\n",
       "    </tr>\n",
       "  </tbody>\n",
       "</table>\n",
       "</div>"
      ],
      "text/plain": [
       "    Actual_2  Predicted_2\n",
       "0       88.0    73.180921\n",
       "1       73.0    74.596141\n",
       "2       55.0    73.682713\n",
       "3       92.0    73.469556\n",
       "4       46.0    74.700972\n",
       "5       83.0    74.485719\n",
       "6       80.0    73.911245\n",
       "7       45.0    73.405959\n",
       "8       83.0    73.559012\n",
       "9       92.0    74.255789\n",
       "10      80.0    72.990827\n",
       "11      69.0    71.992835\n",
       "12      62.0    72.882502\n",
       "13      53.0    74.512975\n",
       "14      83.0    71.945312\n",
       "15      61.0    75.968730\n",
       "16      75.0    74.244607\n",
       "17      85.0    74.020269\n",
       "18      86.0    74.546521\n",
       "19      88.0    73.667337\n",
       "20      52.0    67.121683\n",
       "21      88.0    75.315283\n",
       "22      66.0    75.628378\n",
       "23      86.0    75.460648\n",
       "24      82.0    73.150171\n",
       "25      62.0    75.034335\n",
       "26      61.0    75.314584\n",
       "27      51.0    74.371104\n",
       "28      54.0    72.427535\n",
       "29      71.0    72.052240"
      ]
     },
     "execution_count": 35,
     "metadata": {},
     "output_type": "execute_result"
    }
   ],
   "source": [
    "# Creating a dataframe for Hypothesis 2 comparing the actual and predicted values of y.\n",
    "\n",
    "data_2 = pd.DataFrame({'Actual_2': y_2_test.flatten(), 'Predicted_2': y_2_predicted.flatten()})\n",
    "data_2.head(30)"
   ]
  },
  {
   "cell_type": "markdown",
   "id": "477849ed",
   "metadata": {},
   "source": [
    "# Q.12 - Include your thoughts on how well the model performed on the test set in a markdown cell."
   ]
  },
  {
   "cell_type": "markdown",
   "id": "0786e16f",
   "metadata": {},
   "source": [
    "### Hypothesis #1: At first blush, the MSE value of 3.1115 seems fairly good, except when you recall that Loudness is measurement of decibels, which are a logarithmic scale. Meaning that an increase of 3 dbs is actually 100 more powerful. Context is key."
   ]
  },
  {
   "cell_type": "markdown",
   "id": "6d5ac869",
   "metadata": {},
   "source": [
    "### Hypothesis #2: The linear regression for Loudness/Popularity really isn't worth its salt. An MSE of 154 is awful, especially when you consider that Popularity is a measurement of 0 to 100."
   ]
  },
  {
   "cell_type": "markdown",
   "id": "7f66aa4b",
   "metadata": {},
   "source": [
    "## In both cases, a linear regression model doesn't really fit the data set. As we demonstrated in 6.2, few of the values in this data set have a linear relationship. As such, this Supervised Machine Learning isn't going to be terribly insightful. (But I am very excited to look at clustering and unsupervised machine learning in the next lesson.)"
   ]
  },
  {
   "cell_type": "code",
   "execution_count": null,
   "id": "b66ecb13",
   "metadata": {},
   "outputs": [],
   "source": []
  }
 ],
 "metadata": {
  "kernelspec": {
   "display_name": "Python 3",
   "language": "python",
   "name": "python3"
  },
  "language_info": {
   "codemirror_mode": {
    "name": "ipython",
    "version": 3
   },
   "file_extension": ".py",
   "mimetype": "text/x-python",
   "name": "python",
   "nbconvert_exporter": "python",
   "pygments_lexer": "ipython3",
   "version": "3.8.8"
  }
 },
 "nbformat": 4,
 "nbformat_minor": 5
}
